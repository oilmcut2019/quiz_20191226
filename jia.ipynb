{
 "cells": [
  {
   "cell_type": "markdown",
   "metadata": {},
   "source": [
    "1.What will be the output of the following Python code?<br>\n",
    "\n",
    "def say(message, times = 1):\n",
    ">print(message * times)\n",
    "\n",
    "say('Hello')<br>\n",
    "say('World', 5)<br><br>\n",
    "a)<br>\n",
    "Hello<br>\n",
    "WorldWorldWorldWorldWorld<br><br>\n",
    "b)<br>\n",
    "Hello<br>\n",
    "World 5<br><br>\n",
    "c)<br>\n",
    "Hello<br>\n",
    "World,World,World,World,World<br><br>\n",
    "d)<br>\n",
    "Hello<br>\n",
    "HelloHelloHelloHelloHello"
   ]
  },
  {
   "cell_type": "code",
   "execution_count": 1,
   "metadata": {
    "ExecuteTime": {
     "end_time": "2019-12-30T02:10:59.153412Z",
     "start_time": "2019-12-30T02:10:59.147404Z"
    }
   },
   "outputs": [
    {
     "name": "stdout",
     "output_type": "stream",
     "text": [
      "Hello\n",
      "WorldWorldWorldWorldWorld\n"
     ]
    }
   ],
   "source": [
    "def say(message, times = 1):\n",
    "\n",
    "    print(message * times)\n",
    "\n",
    "say('Hello')\n",
    "say('World', 5)"
   ]
  },
  {
   "cell_type": "markdown",
   "metadata": {},
   "source": [
    "2.What will be the output of the following Python code?\n",
    "\n",
    "for i in range(5):\n",
    ">if i == 5:\n",
    ">>break\n",
    "\n",
    ">else:<br>\n",
    ">>print(i)\n",
    "\n",
    "else:\n",
    ">print(\"Here\")\n",
    "\n",
    "a) 0 1 2 3 4 Here<br>\n",
    "b) 0 1 2 3 4 5 Here<br>\n",
    "c) 0 1 2 3 4<br>\n",
    "d) 1 2 3 4 5"
   ]
  },
  {
   "cell_type": "code",
   "execution_count": 3,
   "metadata": {
    "ExecuteTime": {
     "end_time": "2019-12-30T02:21:25.795394Z",
     "start_time": "2019-12-30T02:21:25.789391Z"
    }
   },
   "outputs": [
    {
     "name": "stdout",
     "output_type": "stream",
     "text": [
      "0\n",
      "1\n",
      "2\n",
      "3\n",
      "4\n",
      "Here\n"
     ]
    }
   ],
   "source": [
    "for i in range(5):\n",
    "\n",
    "    if i == 5:\n",
    "\n",
    "        break\n",
    "\n",
    "    else:\n",
    "\n",
    "        print(i)\n",
    "\n",
    "else:\n",
    "\n",
    "    print(\"Here\")"
   ]
  },
  {
   "cell_type": "markdown",
   "metadata": {},
   "source": [
    "3.What will be the output of the following Python code snippet?<br>\n",
    "x = 2<br>\n",
    "for i in range(x):\n",
    ">x += 1<br>\n",
    "print (x)\n",
    "    \n",
    "a) 0 1 2 3 4 …<br>\n",
    "b) 0 1<br>\n",
    "c) 3 4<br>\n",
    "d) 0 1 2 3"
   ]
  },
  {
   "cell_type": "code",
   "execution_count": 4,
   "metadata": {
    "ExecuteTime": {
     "end_time": "2019-12-30T02:22:20.966826Z",
     "start_time": "2019-12-30T02:22:20.962825Z"
    }
   },
   "outputs": [
    {
     "name": "stdout",
     "output_type": "stream",
     "text": [
      "3\n",
      "4\n"
     ]
    }
   ],
   "source": [
    "x = 2\n",
    "for i in range(x):\n",
    "    x += 1\n",
    "    print (x)"
   ]
  },
  {
   "cell_type": "markdown",
   "metadata": {},
   "source": [
    "4.What will be the output of the following Python code?<br><br>\n",
    "def power(x, y=2):<br>\n",
    ">r = 1\n",
    "\n",
    ">for i in range(y):\n",
    ">>r = r * x<br>\n",
    "return r\n",
    "    \n",
    "print(power(3))<br>\n",
    "print(power(3, 3))<br><br>\n",
    "\n",
    "a)<br>\n",
    "212<br>\n",
    "32<br>\n",
    "advertisement<br><br>\n",
    "\n",
    "b)<br>\n",
    "9<br>\n",
    "27<br><br>\n",
    "\n",
    "c)<br>\n",
    "567<br>\n",
    "98<br><br>\n",
    "\n",
    "d) None of the mentioned"
   ]
  },
  {
   "cell_type": "code",
   "execution_count": 2,
   "metadata": {
    "ExecuteTime": {
     "end_time": "2019-12-30T02:31:39.641034Z",
     "start_time": "2019-12-30T02:31:39.635033Z"
    }
   },
   "outputs": [
    {
     "name": "stdout",
     "output_type": "stream",
     "text": [
      "9\n",
      "27\n"
     ]
    }
   ],
   "source": [
    "def power(x, y=2):\n",
    "    r = 1 \n",
    "    for i in range(y):\n",
    "        r = r * x\n",
    "    return r\n",
    "\n",
    "print(power(3))\n",
    "print(power(3, 3))"
   ]
  },
  {
   "cell_type": "markdown",
   "metadata": {},
   "source": [
    "5.Does Lambda contains return statements?<br>\n",
    "a) True<br>\n",
    "b) False<br>"
   ]
  },
  {
   "cell_type": "markdown",
   "metadata": {},
   "source": [
    "6.What will be the output of the following Python code?<br><br>\n",
    "i=0<br>\n",
    "def change(i):<br>\n",
    ">i=i+1<br>\n",
    "   return i\n",
    "   \n",
    "change(1)<br>\n",
    "print(i)<br>\n",
    "\n",
    "a) 1<br>\n",
    "b) Nothing is displayed<br>\n",
    "c) 0<br>\n",
    "d) An exception is thrown"
   ]
  },
  {
   "cell_type": "code",
   "execution_count": 3,
   "metadata": {
    "ExecuteTime": {
     "end_time": "2019-12-30T02:33:09.307977Z",
     "start_time": "2019-12-30T02:33:09.301980Z"
    }
   },
   "outputs": [
    {
     "name": "stdout",
     "output_type": "stream",
     "text": [
      "0\n"
     ]
    }
   ],
   "source": [
    "i=0\n",
    "def change(i):\n",
    "\n",
    "    i=i+1\n",
    "    return i\n",
    "\n",
    "change(1)\n",
    "print(i)"
   ]
  },
  {
   "cell_type": "markdown",
   "metadata": {},
   "source": [
    "7.What will be the output of the following Python code?<br><br>\n",
    "a=10<br>\n",
    "b=20<br>\n",
    "def change():\n",
    ">global b<br>\n",
    "a=45<br>\n",
    "b=56<br>\n",
    "    \n",
    "change()<br>\n",
    "print(a)<br>\n",
    "print(b)<br><br>\n",
    "a)<br>\n",
    "10<br>\n",
    "56<br><br>\n",
    "b)<br>\n",
    "45<br>\n",
    "56<br><br>\n",
    "c)<br>\n",
    "10<br>\n",
    "20<br><br>\n",
    "d) Syntax Error"
   ]
  },
  {
   "cell_type": "code",
   "execution_count": 4,
   "metadata": {
    "ExecuteTime": {
     "end_time": "2019-12-30T02:33:54.161599Z",
     "start_time": "2019-12-30T02:33:54.154590Z"
    }
   },
   "outputs": [
    {
     "name": "stdout",
     "output_type": "stream",
     "text": [
      "10\n",
      "56\n"
     ]
    }
   ],
   "source": [
    "a=10\n",
    "b=20\n",
    "def change():\n",
    "\n",
    "    global b\n",
    "    a=45\n",
    "    b=56\n",
    "\n",
    "change()\n",
    "print(a)\n",
    "print(b)"
   ]
  },
  {
   "cell_type": "markdown",
   "metadata": {},
   "source": [
    "8.What will be the output of the following Python code?<br><br>\n",
    "x = 123<br>\n",
    "for i in x:\n",
    ">print(i)\n",
    "\n",
    "a) 1 2 3<br>\n",
    "b) 123<br>\n",
    "c) error<br>\n",
    "d) none of the mentioned"
   ]
  },
  {
   "cell_type": "code",
   "execution_count": 5,
   "metadata": {
    "ExecuteTime": {
     "end_time": "2019-12-30T02:35:19.534667Z",
     "start_time": "2019-12-30T02:35:19.510664Z"
    }
   },
   "outputs": [
    {
     "ename": "TypeError",
     "evalue": "'int' object is not iterable",
     "output_type": "error",
     "traceback": [
      "\u001b[1;31m---------------------------------------------------------------------------\u001b[0m",
      "\u001b[1;31mTypeError\u001b[0m                                 Traceback (most recent call last)",
      "\u001b[1;32m<ipython-input-5-81e43dcdab24>\u001b[0m in \u001b[0;36m<module>\u001b[1;34m\u001b[0m\n\u001b[0;32m      1\u001b[0m \u001b[0mx\u001b[0m \u001b[1;33m=\u001b[0m \u001b[1;36m123\u001b[0m\u001b[1;33m\u001b[0m\u001b[1;33m\u001b[0m\u001b[0m\n\u001b[1;32m----> 2\u001b[1;33m \u001b[1;32mfor\u001b[0m \u001b[0mi\u001b[0m \u001b[1;32min\u001b[0m \u001b[0mx\u001b[0m\u001b[1;33m:\u001b[0m\u001b[1;33m\u001b[0m\u001b[1;33m\u001b[0m\u001b[0m\n\u001b[0m\u001b[0;32m      3\u001b[0m \u001b[1;33m\u001b[0m\u001b[0m\n\u001b[0;32m      4\u001b[0m     \u001b[0mprint\u001b[0m\u001b[1;33m(\u001b[0m\u001b[0mi\u001b[0m\u001b[1;33m)\u001b[0m\u001b[1;33m\u001b[0m\u001b[1;33m\u001b[0m\u001b[0m\n",
      "\u001b[1;31mTypeError\u001b[0m: 'int' object is not iterable"
     ]
    }
   ],
   "source": [
    "x = 123\n",
    "for i in x:\n",
    "\n",
    "    print(i)"
   ]
  },
  {
   "cell_type": "markdown",
   "metadata": {},
   "source": [
    "9.Which of the following Python code creates an empty class?<br><br>\n",
    "a)<br>\n",
    "class A:<br>\n",
    ">return\n",
    "    \n",
    "b)<br>\n",
    "class A:\n",
    ">pass\n",
    "    \n",
    "c)<br>\n",
    "class A:<br><br>\n",
    "d) It is not possible to create an empty class"
   ]
  },
  {
   "cell_type": "markdown",
   "metadata": {},
   "source": [
    "10.What will be the output of the following Python code?<br><br>\n",
    "a=10<br>\n",
    "b=20<br>\n",
    "def change():\n",
    ">global b<br>\n",
    "a=45<br>\n",
    "b=56\n",
    "    \n",
    "change()<br>\n",
    "print(a)<br>\n",
    "print(b)<br><br>\n",
    "a)<br>\n",
    "10<br>\n",
    "56<br><br>\n",
    "b)<br>\n",
    "45<br>\n",
    "56<br><br>\n",
    "c)<br>\n",
    "10<br>\n",
    "20<br><br>\n",
    "d) Syntax Error"
   ]
  },
  {
   "cell_type": "code",
   "execution_count": 6,
   "metadata": {
    "ExecuteTime": {
     "end_time": "2019-12-30T02:36:22.992174Z",
     "start_time": "2019-12-30T02:36:22.986172Z"
    }
   },
   "outputs": [
    {
     "name": "stdout",
     "output_type": "stream",
     "text": [
      "10\n",
      "56\n"
     ]
    }
   ],
   "source": [
    "a=10\n",
    "b=20\n",
    "def change():\n",
    "\n",
    "    global b\n",
    "    a=45\n",
    "    b=56\n",
    "\n",
    "change()\n",
    "print(a)\n",
    "print(b)"
   ]
  },
  {
   "cell_type": "markdown",
   "metadata": {},
   "source": [
    "11.What will be the output of the following Python code?<br>\n",
    "L = [lambda x: x ** 2,lambda x: x ** 3,lambda x: x ** 4]<br>\n",
    "for f in L:\n",
    ">print(f(3))\n",
    "\n",
    "a)<br>\n",
    "27<br>\n",
    "81<br>\n",
    "343<br><br>\n",
    "b)<br>\n",
    "6<br>\n",
    "9<br>\n",
    "12<br><br>\n",
    "c)<br>\n",
    "9<br>\n",
    "27<br>\n",
    "81<br><br>\n",
    "d) None of the mentioned"
   ]
  },
  {
   "cell_type": "code",
   "execution_count": 7,
   "metadata": {
    "ExecuteTime": {
     "end_time": "2019-12-30T02:36:40.221674Z",
     "start_time": "2019-12-30T02:36:40.216667Z"
    }
   },
   "outputs": [
    {
     "name": "stdout",
     "output_type": "stream",
     "text": [
      "9\n",
      "27\n",
      "81\n"
     ]
    }
   ],
   "source": [
    "L = [lambda x: x ** 2,lambda x: x ** 3,lambda x: x ** 4]\n",
    "for f in L:\n",
    "\n",
    "    print(f(3))"
   ]
  },
  {
   "cell_type": "markdown",
   "metadata": {},
   "source": [
    "12.What will be the output of the following Python code?<br><br>\n",
    "i=0<br>\n",
    "def change(i):\n",
    "   >i=i+1<br>\n",
    "   return i\n",
    "   \n",
    "change(1)<br>\n",
    "print(i)<br><br>\n",
    "a) 1<br>\n",
    "b) Nothing is displayed<br>\n",
    "c) 0<br>\n",
    "d) An exception is thrown"
   ]
  },
  {
   "cell_type": "code",
   "execution_count": 8,
   "metadata": {
    "ExecuteTime": {
     "end_time": "2019-12-30T02:37:17.478117Z",
     "start_time": "2019-12-30T02:37:17.472117Z"
    }
   },
   "outputs": [
    {
     "name": "stdout",
     "output_type": "stream",
     "text": [
      "0\n"
     ]
    }
   ],
   "source": [
    "i=0\n",
    "def change(i):\n",
    "\n",
    "    i=i+1\n",
    "    return i\n",
    "\n",
    "change(1)\n",
    "print(i)"
   ]
  },
  {
   "cell_type": "markdown",
   "metadata": {},
   "source": [
    "13.What will be the output of the following Python code?<br><br>\n",
    " a=(1,2)<br>\n",
    " b=(3,4)<br>\n",
    " c=a+b<br>\n",
    " c<br><br>\n",
    "a) (4,6)<br>\n",
    "b) (1,2,3,4)<br>\n",
    "c) Error as tuples are immutable<br>\n",
    "d) None"
   ]
  },
  {
   "cell_type": "code",
   "execution_count": 9,
   "metadata": {
    "ExecuteTime": {
     "end_time": "2019-12-30T02:38:44.824220Z",
     "start_time": "2019-12-30T02:38:44.818216Z"
    }
   },
   "outputs": [
    {
     "data": {
      "text/plain": [
       "(1, 2, 3, 4)"
      ]
     },
     "execution_count": 9,
     "metadata": {},
     "output_type": "execute_result"
    }
   ],
   "source": [
    "a=(1,2)\n",
    "b=(3,4)\n",
    "c=a+b\n",
    "c"
   ]
  },
  {
   "cell_type": "markdown",
   "metadata": {},
   "source": [
    "14.What will be the output of the following Python code snippet?<br><br>\n",
    "not(3>4)<br>\n",
    "not(1&1)<br><br>\n",
    "a)<br>\n",
    "   True<br>\n",
    "   True<br><br>\n",
    "b)<br>\n",
    "   True<br>\n",
    "   False<br><br>\n",
    "c)<br>\n",
    "   False<br>\n",
    "   True<br><br>\n",
    "d)<br>\n",
    "   False<br>\n",
    "   False"
   ]
  },
  {
   "cell_type": "code",
   "execution_count": 11,
   "metadata": {
    "ExecuteTime": {
     "end_time": "2019-12-30T02:39:27.709781Z",
     "start_time": "2019-12-30T02:39:27.704773Z"
    }
   },
   "outputs": [
    {
     "name": "stdout",
     "output_type": "stream",
     "text": [
      "True\n",
      "False\n"
     ]
    }
   ],
   "source": [
    "print(not(3>4))\n",
    "print(not(1&1))"
   ]
  },
  {
   "cell_type": "markdown",
   "metadata": {},
   "source": [
    "15.What will be the output of the following Python code snippet?<br><br>\n",
    "l=[1, 2, 4, 5, 2, 'xy', 4]<br>\n",
    "set(l)<br><br>\n",
    "a)<br>\n",
    "{1, 2, 4, 5, 2, ‘xy’, 4}<br><br>\n",
    "b)<br>\n",
    "{1, 2, 4, 5, ‘xy’}<br><br>\n",
    "c)<br>\n",
    "{1, 5, ‘xy’}<br><br>\n",
    "d)<br>\n",
    "[1, 2, 4, 5, ‘xy’]"
   ]
  },
  {
   "cell_type": "code",
   "execution_count": 12,
   "metadata": {
    "ExecuteTime": {
     "end_time": "2019-12-30T02:39:54.141340Z",
     "start_time": "2019-12-30T02:39:54.135339Z"
    }
   },
   "outputs": [
    {
     "data": {
      "text/plain": [
       "{1, 2, 4, 5, 'xy'}"
      ]
     },
     "execution_count": 12,
     "metadata": {},
     "output_type": "execute_result"
    }
   ],
   "source": [
    "l=[1, 2, 4, 5, 2, 'xy', 4]\n",
    "set(l)"
   ]
  },
  {
   "cell_type": "markdown",
   "metadata": {},
   "source": [
    "16.What will be the output of the following Python code?<br><br>\n",
    "i = 0<br>\n",
    "while i < 5:\n",
    ">print(i)<br>\n",
    "i += 1<br>\n",
    "if i == 3:\n",
    ">>break\n",
    "\n",
    "else:\n",
    ">print(0)\n",
    "    \n",
    "a) 0 1 2 0<br>\n",
    "b) 0 1 2<br>\n",
    "c) error<br>\n",
    "d) none of the mentioned"
   ]
  },
  {
   "cell_type": "code",
   "execution_count": 13,
   "metadata": {
    "ExecuteTime": {
     "end_time": "2019-12-30T02:40:53.578885Z",
     "start_time": "2019-12-30T02:40:53.571881Z"
    }
   },
   "outputs": [
    {
     "name": "stdout",
     "output_type": "stream",
     "text": [
      "0\n",
      "1\n",
      "2\n"
     ]
    }
   ],
   "source": [
    "i = 0\n",
    "while i < 5:\n",
    "\n",
    "    print(i)\n",
    "    i += 1\n",
    "    if i == 3:\n",
    "\n",
    "        break\n",
    "\n",
    "else:\n",
    "\n",
    "    print(0)"
   ]
  },
  {
   "cell_type": "markdown",
   "metadata": {},
   "source": [
    "17.What will be the output of the following Python code?<br><br>\n",
    "i = 1<br>\n",
    "while True:\n",
    ">if i%7 == 0:<br>\n",
    ">>break\n",
    "\n",
    ">print(i)\n",
    "i += 1\n",
    "    \n",
    "a) 1 2 3 4 5 6<br>\n",
    "b) 1 2 3 4 5 6 7<br>\n",
    "c) error<br>\n",
    "d) none of the mentioned"
   ]
  },
  {
   "cell_type": "code",
   "execution_count": 15,
   "metadata": {
    "ExecuteTime": {
     "end_time": "2019-12-30T02:41:48.958883Z",
     "start_time": "2019-12-30T02:41:48.952880Z"
    }
   },
   "outputs": [
    {
     "name": "stdout",
     "output_type": "stream",
     "text": [
      "1\n",
      "2\n",
      "3\n",
      "4\n",
      "5\n",
      "6\n"
     ]
    }
   ],
   "source": [
    "i = 1\n",
    "while True:\n",
    "\n",
    "    if i%7 == 0:\n",
    "\n",
    "        break\n",
    "\n",
    "    print(i) \n",
    "    i += 1"
   ]
  },
  {
   "cell_type": "markdown",
   "metadata": {},
   "source": [
    "18.Suppose listExample is [3, 4, 5, 20, 5, 25, 1, 3], what is list1 after listExample.pop(1)?<br>\n",
    "a) [3, 4, 5, 20, 5, 25, 1, 3]<br>\n",
    "b) [1, 3, 3, 4, 5, 5, 20, 25]<br>\n",
    "c) [3, 5, 20, 5, 25, 1, 3]<br>\n",
    "d) [1, 3, 4, 5, 20, 5, 25]"
   ]
  },
  {
   "cell_type": "code",
   "execution_count": null,
   "metadata": {},
   "outputs": [],
   "source": [
    "c"
   ]
  },
  {
   "cell_type": "markdown",
   "metadata": {},
   "source": [
    "19.Which of the following matrices will throw an error in Python?<br><br>\n",
    "\n",
    "a) A =\n",
    ">[[1, 2, 3],<br>\n",
    "[4, 5, 6],<br>\n",
    "[7, 8, 9]]\n",
    "\n",
    "b) B = \n",
    ">[[3, 3, 3]<br>\n",
    "[4, 4, 4]<br>\n",
    "[5, 5, 5]]\n",
    "        \n",
    "c) C = \n",
    ">[(1, 2, 4),<br>\n",
    "(5, 6, 7),<br>\n",
    "(8, 9, 10)]\n",
    "        \n",
    "d) D = \n",
    ">[2, 3, 4,<br>\n",
    "3, 3, 3,<br>\n",
    "4, 5, 6]"
   ]
  },
  {
   "cell_type": "code",
   "execution_count": null,
   "metadata": {},
   "outputs": [],
   "source": [
    "b"
   ]
  },
  {
   "cell_type": "markdown",
   "metadata": {},
   "source": [
    "20.What will be the output of the following Python code snippet?<br><br>\n",
    "a=[1, 4, 3, 5, 2]<br>\n",
    "b=[3, 1, 5, 2, 4]<br>\n",
    "a==b<br>\n",
    "set(a)==set(b)<br><br>\n",
    "a) True<br>\n",
    "   False<br><br>\n",
    "b) False<br>\n",
    "   False<br><br>    \n",
    "c) False<br>\n",
    "   True<br><br>    \n",
    "d) True<br>\n",
    "   True"
   ]
  },
  {
   "cell_type": "code",
   "execution_count": 16,
   "metadata": {
    "ExecuteTime": {
     "end_time": "2019-12-30T02:43:29.538270Z",
     "start_time": "2019-12-30T02:43:29.532268Z"
    }
   },
   "outputs": [
    {
     "name": "stdout",
     "output_type": "stream",
     "text": [
      "False\n",
      "True\n"
     ]
    }
   ],
   "source": [
    "a=[1, 4, 3, 5, 2]\n",
    "b=[3, 1, 5, 2, 4]\n",
    "print(a==b)\n",
    "print(set(a)==set(b))"
   ]
  },
  {
   "cell_type": "markdown",
   "metadata": {},
   "source": [
    "21.What will be the final value of x in the following C code?<br>\n",
    "#include <stdio.h><br>\n",
    "void main()<br>\n",
    "{\n",
    ">int x = 5 * 9 / 3 + 9;\n",
    "\n",
    "}<br><br>\n",
    "a) 3.75<br>\n",
    "b) Depends on compiler<br>\n",
    "c) 24<br>\n",
    "d) 3"
   ]
  },
  {
   "cell_type": "code",
   "execution_count": null,
   "metadata": {},
   "outputs": [],
   "source": [
    "c"
   ]
  },
  {
   "cell_type": "markdown",
   "metadata": {},
   "source": [
    "22.What will be the output of the following C code?<br>\n",
    "\n",
    "#include <stdio.h><br>\n",
    "int main()<br>\n",
    "{\n",
    ">printf(\"Hello World! %d \\n\", x);<br>\n",
    "return 0;\n",
    "        \n",
    "}<br><br>\n",
    "a) Hello World! x;<br>\n",
    "b) Hello World! followed by a junk value<br>\n",
    "c) Compile time error<br>\n",
    "d) Hello World!"
   ]
  },
  {
   "cell_type": "code",
   "execution_count": null,
   "metadata": {},
   "outputs": [],
   "source": [
    "c"
   ]
  },
  {
   "cell_type": "markdown",
   "metadata": {},
   "source": [
    "23.What will be the final value of x in the following C code?<br>\n",
    "#include <stdio.h><br>\n",
    "void main()<br>\n",
    "{\n",
    ">int x = 5 * 9 / 3 + 9;\n",
    "\n",
    "}<br><br>\n",
    "a) 3.75<br>\n",
    "b) Depends on compiler<br>\n",
    "c) 24<br>\n",
    "d) 3"
   ]
  },
  {
   "cell_type": "code",
   "execution_count": null,
   "metadata": {},
   "outputs": [],
   "source": [
    "c"
   ]
  },
  {
   "cell_type": "markdown",
   "metadata": {},
   "source": [
    "24.What will be the output of the following C code?<br>\n",
    "\n",
    "#include <stdio.h><br>\n",
    "void main()\n",
    "{\n",
    ">int x = 0;\n",
    ">>if (x == 0)\n",
    ">>>printf(\"hi\");\n",
    "\n",
    ">>else\n",
    ">>>printf(\"how are u\");<br>\n",
    ">>>printf(\"hello\");\n",
    "\n",
    "}<br><br>\n",
    "\n",
    "a) hi<br>\n",
    "b) how are you<br>\n",
    "c) hello<br>\n",
    "d) hihello<br>"
   ]
  },
  {
   "cell_type": "code",
   "execution_count": null,
   "metadata": {},
   "outputs": [],
   "source": [
    "d"
   ]
  },
  {
   "cell_type": "markdown",
   "metadata": {},
   "source": [
    "25.What will be the output of the following C code? (Q & A) +20<br>\n",
    "#include <stdio.h><br>\n",
    "int main()<br>\n",
    "{\n",
    ">    int i=2;<br>\n",
    "    printf(\"%d,%d\",++i,++i);<br>\n",
    "    return 0;\n",
    "\n",
    "}"
   ]
  },
  {
   "cell_type": "code",
   "execution_count": null,
   "metadata": {},
   "outputs": [],
   "source": [
    "4,4"
   ]
  },
  {
   "cell_type": "code",
   "execution_count": null,
   "metadata": {},
   "outputs": [],
   "source": []
  },
  {
   "cell_type": "code",
   "execution_count": null,
   "metadata": {},
   "outputs": [],
   "source": []
  },
  {
   "cell_type": "code",
   "execution_count": null,
   "metadata": {},
   "outputs": [],
   "source": []
  },
  {
   "cell_type": "code",
   "execution_count": null,
   "metadata": {},
   "outputs": [],
   "source": []
  },
  {
   "cell_type": "code",
   "execution_count": null,
   "metadata": {},
   "outputs": [],
   "source": []
  },
  {
   "cell_type": "code",
   "execution_count": null,
   "metadata": {},
   "outputs": [],
   "source": [
    "1.\n",
    "2.\n",
    "3.\n",
    "4.\n",
    "5.\n",
    "6.\n",
    "7.\n",
    "8.\n",
    "9.\n",
    "10.\n",
    "11.\n",
    "12\n",
    "13.\n",
    "14.\n",
    "15.\n",
    "16.\n",
    "17.\n",
    "18.\n",
    "19.\n",
    "20."
   ]
  }
 ],
 "metadata": {
  "kernelspec": {
   "display_name": "Python 3",
   "language": "python",
   "name": "python3"
  },
  "nbTranslate": {
   "displayLangs": [
    "*"
   ],
   "hotkey": "alt-t",
   "langInMainMenu": true,
   "sourceLang": "en",
   "targetLang": "fr",
   "useGoogleTranslate": true
  },
  "toc": {
   "base_numbering": 1,
   "nav_menu": {},
   "number_sections": true,
   "sideBar": true,
   "skip_h1_title": false,
   "title_cell": "Table of Contents",
   "title_sidebar": "Contents",
   "toc_cell": false,
   "toc_position": {},
   "toc_section_display": true,
   "toc_window_display": false
  },
  "varInspector": {
   "cols": {
    "lenName": 16,
    "lenType": 16,
    "lenVar": 40
   },
   "kernels_config": {
    "python": {
     "delete_cmd_postfix": "",
     "delete_cmd_prefix": "del ",
     "library": "var_list.py",
     "varRefreshCmd": "print(var_dic_list())"
    },
    "r": {
     "delete_cmd_postfix": ") ",
     "delete_cmd_prefix": "rm(",
     "library": "var_list.r",
     "varRefreshCmd": "cat(var_dic_list()) "
    }
   },
   "types_to_exclude": [
    "module",
    "function",
    "builtin_function_or_method",
    "instance",
    "_Feature"
   ],
   "window_display": true
  }
 },
 "nbformat": 4,
 "nbformat_minor": 2
}
