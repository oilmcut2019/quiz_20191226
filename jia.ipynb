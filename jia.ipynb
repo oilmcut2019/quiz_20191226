{
 "cells": [
  {
   "cell_type": "markdown",
   "metadata": {},
   "source": [
    "1.What will be the output of the following Python code?<br>\n",
    "\n",
    "def say(message, times = 1):\n",
    ">print(message * times)\n",
    "\n",
    "say('Hello')<br>\n",
    "say('World', 5)<br><br>\n",
    "a)<br>\n",
    "Hello<br>\n",
    "WorldWorldWorldWorldWorld<br><br>\n",
    "b)<br>\n",
    "Hello<br>\n",
    "World 5<br><br>\n",
    "c)<br>\n",
    "Hello<br>\n",
    "World,World,World,World,World<br><br>\n",
    "d)<br>\n",
    "Hello<br>\n",
    "HelloHelloHelloHelloHello"
   ]
  },
  {
   "cell_type": "markdown",
   "metadata": {},
   "source": [
    "2.What will be the output of the following Python code?\n",
    "\n",
    "for i in range(5):\n",
    ">if i == 5:\n",
    ">>break\n",
    "\n",
    ">else:<br>\n",
    ">>print(i)\n",
    "\n",
    "else:\n",
    ">print(\"Here\")\n",
    "\n",
    "a) 0 1 2 3 4 Here<br>\n",
    "b) 0 1 2 3 4 5 Here<br>\n",
    "c) 0 1 2 3 4<br>\n",
    "d) 1 2 3 4 5"
   ]
  },
  {
   "cell_type": "markdown",
   "metadata": {},
   "source": [
    "3.What will be the output of the following Python code snippet?<br>\n",
    "x = 2<br>\n",
    "for i in range(x):\n",
    ">x += 1<br>\n",
    "print (x)\n",
    "    \n",
    "a) 0 1 2 3 4 …<br>\n",
    "b) 0 1<br>\n",
    "c) 3 4<br>\n",
    "d) 0 1 2 3"
   ]
  },
  {
   "cell_type": "markdown",
   "metadata": {},
   "source": [
    "4.What will be the output of the following Python code?<br><br>\n",
    "def power(x, y=2):<br>\n",
    ">r = 1\n",
    "for i in range(y):\n",
    ">>r = r * x<br>\n",
    "return r\n",
    "    \n",
    "print power(3)<br>\n",
    "print power(3, 3)<br><br>\n",
    "\n",
    "a)<br>\n",
    "212<br>\n",
    "32<br>\n",
    "advertisement<br><br>\n",
    "\n",
    "b)<br>\n",
    "9<br>\n",
    "27<br><br>\n",
    "\n",
    "c)<br>\n",
    "567<br>\n",
    "98<br><br>\n",
    "\n",
    "d) None of the mentioned"
   ]
  },
  {
   "cell_type": "markdown",
   "metadata": {},
   "source": [
    "5.Does Lambda contains return statements?<br>\n",
    "a) True<br>\n",
    "b) False<br>"
   ]
  },
  {
   "cell_type": "markdown",
   "metadata": {},
   "source": [
    "6.What will be the output of the following Python code?<br><br>\n",
    "i=0<br>\n",
    "def change(i):<br>\n",
    ">i=i+1<br>\n",
    "   return i\n",
    "   \n",
    "change(1)<br>\n",
    "print(i)<br>\n",
    "\n",
    "a) 1<br>\n",
    "b) Nothing is displayed<br>\n",
    "c) 0<br>\n",
    "d) An exception is thrown"
   ]
  },
  {
   "cell_type": "markdown",
   "metadata": {},
   "source": [
    "7.What will be the output of the following Python code?<br><br>\n",
    "a=10<br>\n",
    "b=20<br>\n",
    "def change():\n",
    ">global b<br>\n",
    "a=45<br>\n",
    "b=56<br>\n",
    "    \n",
    "change()<br>\n",
    "print(a)<br>\n",
    "print(b)<br><br>\n",
    "a)<br>\n",
    "10<br>\n",
    "56<br><br>\n",
    "b)<br>\n",
    "45<br>\n",
    "56<br><br>\n",
    "c)<br>\n",
    "10<br>\n",
    "20<br><br>\n",
    "d) Syntax Error"
   ]
  },
  {
   "cell_type": "markdown",
   "metadata": {},
   "source": [
    "8.What will be the output of the following Python code?<br><br>\n",
    "x = 123<br>\n",
    "for i in x:\n",
    ">print(i)\n",
    "\n",
    "a) 1 2 3<br>\n",
    "b) 123<br>\n",
    "c) error<br>\n",
    "d) none of the mentioned"
   ]
  },
  {
   "cell_type": "markdown",
   "metadata": {},
   "source": [
    "9.Which of the following Python code creates an empty class?<br><br>\n",
    "a)<br>\n",
    "class A:<br>\n",
    ">return\n",
    "    \n",
    "b)<br>\n",
    "class A:\n",
    ">pass\n",
    "    \n",
    "c)<br>\n",
    "class A:<br><br>\n",
    "d) It is not possible to create an empty class"
   ]
  },
  {
   "cell_type": "markdown",
   "metadata": {},
   "source": [
    "10.What will be the output of the following Python code?<br><br>\n",
    "a=10<br>\n",
    "b=20<br>\n",
    "def change():\n",
    ">global b<br>\n",
    "a=45<br>\n",
    "b=56\n",
    "    \n",
    "change()<br>\n",
    "print(a)<br>\n",
    "print(b)<br><br>\n",
    "a)<br>\n",
    "10<br>\n",
    "56<br><br>\n",
    "b)<br>\n",
    "45<br>\n",
    "56<br><br>\n",
    "c)<br>\n",
    "10<br>\n",
    "20<br><br>\n",
    "d) Syntax Error"
   ]
  },
  {
   "cell_type": "markdown",
   "metadata": {},
   "source": [
    "11.What will be the output of the following Python code?<br>\n",
    "L = [lambda x: x ** 2,lambda x: x ** 3,lambda x: x ** 4]<br>\n",
    "for f in L:\n",
    ">print(f(3))\n",
    "\n",
    "a)<br>\n",
    "27<br>\n",
    "81<br>\n",
    "343<br><br>\n",
    "b)<br>\n",
    "6<br>\n",
    "9<br>\n",
    "12<br><br>\n",
    "c)<br>\n",
    "9<br>\n",
    "27<br>\n",
    "81<br><br>\n",
    "d) None of the mentioned"
   ]
  },
  {
   "cell_type": "markdown",
   "metadata": {},
   "source": [
    "12.What will be the output of the following Python code?<br><br>\n",
    "i=0<br>\n",
    "def change(i):\n",
    "   >i=i+1<br>\n",
    "   return i\n",
    "   \n",
    "change(1)<br>\n",
    "print(i)<br><br>\n",
    "a) 1<br>\n",
    "b) Nothing is displayed<br>\n",
    "c) 0<br>\n",
    "d) An exception is thrown"
   ]
  },
  {
   "cell_type": "markdown",
   "metadata": {},
   "source": [
    "13.What will be the output of the following Python code?<br><br>\n",
    " a=(1,2)<br>\n",
    " b=(3,4)<br>\n",
    " c=a+b<br>\n",
    " c<br><br>\n",
    "a) (4,6)<br>\n",
    "b) (1,2,3,4)<br>\n",
    "c) Error as tuples are immutable<br>\n",
    "d) None"
   ]
  },
  {
   "cell_type": "markdown",
   "metadata": {},
   "source": [
    "14.What will be the output of the following Python code snippet?<br><br>\n",
    "not(3>4)<br>\n",
    "not(1&1)<br><br>\n",
    "a)<br>\n",
    "   True<br>\n",
    "   True<br><br>\n",
    "b)<br>\n",
    "   True<br>\n",
    "   False<br><br>\n",
    "c)<br>\n",
    "   False<br>\n",
    "   True<br><br>\n",
    "d)<br>\n",
    "   False<br>\n",
    "   False"
   ]
  },
  {
   "cell_type": "markdown",
   "metadata": {},
   "source": [
    "15.What will be the output of the following Python code snippet?<br><br>\n",
    "l=[1, 2, 4, 5, 2, 'xy', 4]<br>\n",
    "set(l)<br><br>\n",
    "a)<br>\n",
    "{1, 2, 4, 5, 2, ‘xy’, 4}<br><br>\n",
    "b)<br>\n",
    "{1, 2, 4, 5, ‘xy’}<br><br>\n",
    "c)<br>\n",
    "{1, 5, ‘xy’}<br><br>\n",
    "d)<br>\n",
    "[1, 2, 4, 5, ‘xy’]"
   ]
  },
  {
   "cell_type": "markdown",
   "metadata": {},
   "source": [
    "16.What will be the output of the following Python code?<br><br>\n",
    "i = 0<br>\n",
    "while i < 5:\n",
    ">print(i)<br>\n",
    "i += 1<br>\n",
    "if i == 3:\n",
    ">>break\n",
    "\n",
    "else:\n",
    ">print(0)\n",
    "    \n",
    "a) 0 1 2 0<br>\n",
    "b) 0 1 2<br>\n",
    "c) error<br>\n",
    "d) none of the mentioned"
   ]
  },
  {
   "cell_type": "markdown",
   "metadata": {},
   "source": [
    "17.What will be the output of the following Python code?<br><br>\n",
    "i = 1<br>\n",
    "while True:\n",
    ">if i%0O7 == 0:<br>\n",
    ">>break\n",
    "\n",
    ">print(i)\n",
    "i += 1\n",
    "    \n",
    "a) 1 2 3 4 5 6<br>\n",
    "b) 1 2 3 4 5 6 7<br>\n",
    "c) error<br>\n",
    "d) none of the mentioned"
   ]
  },
  {
   "cell_type": "markdown",
   "metadata": {},
   "source": [
    "18.Suppose listExample is [3, 4, 5, 20, 5, 25, 1, 3], what is list1 after listExample.pop(1)?<br>\n",
    "a) [3, 4, 5, 20, 5, 25, 1, 3]<br>\n",
    "b) [1, 3, 3, 4, 5, 5, 20, 25]<br>\n",
    "c) [3, 5, 20, 5, 25, 1, 3]<br>\n",
    "d) [1, 3, 4, 5, 20, 5, 25]"
   ]
  },
  {
   "cell_type": "markdown",
   "metadata": {},
   "source": [
    "19.Which of the following matrices will throw an error in Python?<br><br>\n",
    "\n",
    "a) A =\n",
    ">[[1, 2, 3],<br>\n",
    "[4, 5, 6],<br>\n",
    "[7, 8, 9]]\n",
    "\n",
    "b) B = \n",
    ">[[3, 3, 3]<br>\n",
    "[4, 4, 4]<br>\n",
    "[5, 5, 5]]\n",
    "        \n",
    "c) C = \n",
    ">[(1, 2, 4),<br>\n",
    "(5, 6, 7),<br>\n",
    "(8, 9, 10)]\n",
    "        \n",
    "d) D = \n",
    ">[2, 3, 4,<br>\n",
    "3, 3, 3,<br>\n",
    "4, 5, 6]"
   ]
  },
  {
   "cell_type": "markdown",
   "metadata": {},
   "source": [
    "20.What will be the output of the following Python code snippet?<br><br>\n",
    "a=[1, 4, 3, 5, 2]<br>\n",
    "b=[3, 1, 5, 2, 4]<br>\n",
    "a==b<br>\n",
    "set(a)==set(b)<br><br>\n",
    "a) True<br>\n",
    "   False<br><br>\n",
    "b) False<br>\n",
    "   False<br><br>    \n",
    "c) False<br>\n",
    "   True<br><br>    \n",
    "d) True<br>\n",
    "   True"
   ]
  },
  {
   "cell_type": "markdown",
   "metadata": {},
   "source": [
    "21.What will be the final value of x in the following C code?<br>\n",
    "#include <stdio.h><br>\n",
    "void main()<br>\n",
    "{\n",
    ">int x = 5 * 9 / 3 + 9;\n",
    "\n",
    "}<br><br>\n",
    "a) 3.75<br>\n",
    "b) Depends on compiler<br>\n",
    "c) 24<br>\n",
    "d) 3"
   ]
  },
  {
   "cell_type": "markdown",
   "metadata": {},
   "source": [
    "22.What will be the output of the following C code?<br>\n",
    "\n",
    "#include <stdio.h><br>\n",
    "int main()<br>\n",
    "{\n",
    ">printf(\"Hello World! %d \\n\", x);<br>\n",
    "return 0;\n",
    "        \n",
    "}<br><br>\n",
    "a) Hello World! x;<br>\n",
    "b) Hello World! followed by a junk value<br>\n",
    "c) Compile time error<br>\n",
    "d) Hello World!"
   ]
  },
  {
   "cell_type": "markdown",
   "metadata": {},
   "source": [
    "23.What will be the final value of x in the following C code?<br>\n",
    "#include <stdio.h><br>\n",
    "void main()<br>\n",
    "{\n",
    ">int x = 5 * 9 / 3 + 9;\n",
    "\n",
    "}<br><br>\n",
    "a) 3.75<br>\n",
    "b) Depends on compiler<br>\n",
    "c) 24<br>\n",
    "d) 3"
   ]
  },
  {
   "cell_type": "markdown",
   "metadata": {},
   "source": [
    "24.What will be the output of the following C code?<br>\n",
    "\n",
    "#include <stdio.h><br>\n",
    "void main()\n",
    "{\n",
    ">int x = 0;\n",
    ">>if (x == 0)\n",
    ">>>printf(\"hi\");\n",
    "\n",
    ">>else\n",
    ">>>printf(\"how are u\");<br>\n",
    ">>>printf(\"hello\");\n",
    "\n",
    "}<br><br>\n",
    "\n",
    "a) hi<br>\n",
    "b) how are you<br>\n",
    "c) hello<br>\n",
    "d) hihello<br>"
   ]
  },
  {
   "cell_type": "markdown",
   "metadata": {},
   "source": [
    "25.What will be the output of the following C code? (Q & A) +20<br>\n",
    "#include <stdio.h><br>\n",
    "int main()<br>\n",
    "{\n",
    ">    int i=2;<br>\n",
    "    printf(\"%d,%d\",++i,++i);<br>\n",
    "    return 0;\n",
    "\n",
    "}"
   ]
  },
  {
   "cell_type": "code",
   "execution_count": null,
   "metadata": {},
   "outputs": [],
   "source": []
  },
  {
   "cell_type": "code",
   "execution_count": null,
   "metadata": {},
   "outputs": [],
   "source": []
  },
  {
   "cell_type": "code",
   "execution_count": null,
   "metadata": {},
   "outputs": [],
   "source": []
  },
  {
   "cell_type": "code",
   "execution_count": null,
   "metadata": {},
   "outputs": [],
   "source": []
  },
  {
   "cell_type": "code",
   "execution_count": null,
   "metadata": {},
   "outputs": [],
   "source": []
  },
  {
   "cell_type": "code",
   "execution_count": null,
   "metadata": {},
   "outputs": [],
   "source": []
  },
  {
   "cell_type": "code",
   "execution_count": null,
   "metadata": {},
   "outputs": [],
   "source": [
    "1.\n",
    "2.\n",
    "3.\n",
    "4.\n",
    "5.\n",
    "6.\n",
    "7.\n",
    "8.\n",
    "9.\n",
    "10.\n",
    "11.\n",
    "12\n",
    "13.\n",
    "14.\n",
    "15.\n",
    "16.\n",
    "17.\n",
    "18.\n",
    "19.\n",
    "20."
   ]
  }
 ],
 "metadata": {
  "kernelspec": {
   "display_name": "Python 3",
   "language": "python",
   "name": "python3"
  },
  "language_info": {
   "codemirror_mode": {
    "name": "ipython",
    "version": 3
   },
   "file_extension": ".py",
   "mimetype": "text/x-python",
   "name": "python",
   "nbconvert_exporter": "python",
   "pygments_lexer": "ipython3",
   "version": "3.7.3"
  },
  "nbTranslate": {
   "displayLangs": [
    "*"
   ],
   "hotkey": "alt-t",
   "langInMainMenu": true,
   "sourceLang": "en",
   "targetLang": "fr",
   "useGoogleTranslate": true
  },
  "toc": {
   "base_numbering": 1,
   "nav_menu": {},
   "number_sections": true,
   "sideBar": true,
   "skip_h1_title": false,
   "title_cell": "Table of Contents",
   "title_sidebar": "Contents",
   "toc_cell": false,
   "toc_position": {},
   "toc_section_display": true,
   "toc_window_display": false
  },
  "varInspector": {
   "cols": {
    "lenName": 16,
    "lenType": 16,
    "lenVar": 40
   },
   "kernels_config": {
    "python": {
     "delete_cmd_postfix": "",
     "delete_cmd_prefix": "del ",
     "library": "var_list.py",
     "varRefreshCmd": "print(var_dic_list())"
    },
    "r": {
     "delete_cmd_postfix": ") ",
     "delete_cmd_prefix": "rm(",
     "library": "var_list.r",
     "varRefreshCmd": "cat(var_dic_list()) "
    }
   },
   "types_to_exclude": [
    "module",
    "function",
    "builtin_function_or_method",
    "instance",
    "_Feature"
   ],
   "window_display": false
  }
 },
 "nbformat": 4,
 "nbformat_minor": 2
}
