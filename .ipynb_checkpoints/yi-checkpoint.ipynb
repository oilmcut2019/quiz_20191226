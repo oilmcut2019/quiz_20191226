{
 "cells": [
  {
   "cell_type": "markdown",
   "metadata": {},
   "source": [
    "1.What will be the output of the following Python code snippet?<br><br>\n",
    "test = {1:'A', 2:'B', 3:'C'}<br>\n",
    "test = {}<br>\n",
    "print(len(test))<br><br>\n",
    "a) 0<br>\n",
    "b) None<br>\n",
    "c) 3<br>\n",
    "d) An exception is thrown"
   ]
  },
  {
   "cell_type": "markdown",
   "metadata": {},
   "source": [
    "2.What will be the output of the following Python code?<br><br>\n",
    "numbers = [1, 2, 3, 4]<br>\n",
    "numbers.append([5,6,7,8])<br>\n",
    "print(len(numbers))<br><br>\n",
    "a) 4<br>\n",
    "b) 5<br>\n",
    "c) 8<br>\n",
    "d) 12"
   ]
  },
  {
   "cell_type": "markdown",
   "metadata": {},
   "source": [
    "3.What will be the output of the following Python code?<br><br>\n",
    "t = (1, 2)<br>\n",
    "2 * t<br><br>\n",
    "a) (1, 2, 1, 2)<br>\n",
    "b) [1, 2, 1, 2]<br>\n",
    "c) (1, 1, 2, 2)<br>\n",
    "d) [1, 1, 2, 2]"
   ]
  },
  {
   "cell_type": "markdown",
   "metadata": {},
   "source": [
    "4.What will be the output of the following Python code?<br><br>\n",
    "a={1:5,2:3,3:4}<br>\n",
    "a.pop(3)<br>\n",
    "print(a)<br><br>\n",
    "a) {1: 5}<br>\n",
    "b) {1: 5, 2: 3}<br>\n",
    "c) Error, syntax error for pop() method<br>\n",
    "d) {1: 5, 3: 4}"
   ]
  },
  {
   "cell_type": "markdown",
   "metadata": {},
   "source": [
    "5.What will be the output of the following Python code?<br><br>\n",
    "i = 1<br>\n",
    "while True:\n",
    ">if i%2 == 0:\n",
    ">>break\n",
    "\n",
    ">print(i)<br>\n",
    "    i += 2\n",
    "\n",
    "a) 1<br>\n",
    "b) 1 2<br>\n",
    "c) 1 2 3 4 5 6 …<br>\n",
    "d) 1 3 5 7 9 11 …"
   ]
  },
  {
   "cell_type": "markdown",
   "metadata": {},
   "source": [
    "6.What will be the output of the following Python code?<br><br>\n",
    "lst=[3,4,6,1,2]<br>\n",
    "lst[1:2]=[7,8]<br>\n",
    "print(lst)<br><br>\n",
    "a) [3, 7, 8, 6, 1, 2]<br>\n",
    "b) Syntax error<br>\n",
    "c) [3,[7,8],6,1,2]<br>\n",
    "d) [3,4,6,7,8]"
   ]
  },
  {
   "cell_type": "markdown",
   "metadata": {},
   "source": [
    "7.What will be the output of the following Python code?<br><br>\n",
    "\n",
    "matrix = [[1, 2, 3, 4],[4, 5, 6, 7],[8, 9, 10, 11],[12, 13, 14, 15]]<br><br>\n",
    "for i in range(0, 4):<br>\n",
    ">print(matrix[i][1], end = \" \")\n",
    "\n",
    "a) 1 2 3 4<br>\n",
    "b) 4 5 6 7<br>\n",
    "c) 1 3 8 12<br>\n",
    "d) 2 5 9 13"
   ]
  },
  {
   "cell_type": "markdown",
   "metadata": {},
   "source": [
    "8.What will be the output of the following Python code snippet?<br><br>\n",
    "\n",
    "print('ab cd ef'.title())<br><br>\n",
    "\n",
    "a) Ab cd ef<br>\n",
    "b) Ab cd eF<br>\n",
    "c) Ab Cd Ef<br>\n",
    "d) None of the mentioned"
   ]
  },
  {
   "cell_type": "markdown",
   "metadata": {},
   "source": [
    "9.What will be the output of the following Python code?<br><br>\n",
    "class tester:<br>\n",
    ">def __init__(self, id):\n",
    ">>self.id = str(id)<br>\n",
    "id=\"224\"\n",
    "\n",
    "temp = tester(12)<br>\n",
    "print(temp.id)<br><br>\n",
    "a) 224<br>\n",
    "b) Error<br>\n",
    "c) 12<br>\n",
    "d) None"
   ]
  },
  {
   "cell_type": "markdown",
   "metadata": {},
   "source": [
    "10.What will be the output of the following Python code snippet?<br><br>\n",
    "d = {\"john\":40, \"peter\":45}<br>\n",
    "d[\"john\"]<br><br>\n",
    "a) 40<br>\n",
    "b) 45<br>\n",
    "c) 'john'<br>\n",
    "d) 'peter'"
   ]
  },
  {
   "cell_type": "markdown",
   "metadata": {},
   "source": [
    "11.What will be the output of the following Python code?<br><br>\n",
    "d = {0: 'a', 1: 'b', 2: 'c'}<br>\n",
    "for x in d.keys():<br>\n",
    "    print(d[x])<br><br>\n",
    "a) 0 1 2<br>\n",
    "b) a b c<br>\n",
    "c) 0 a 1 b 2 c<br>\n",
    "d) none of the mentioned"
   ]
  },
  {
   "cell_type": "markdown",
   "metadata": {},
   "source": [
    "12.What will be the output of the following Python code?<br><br>\n",
    "list1 = [1, 2, 3, 4]<br>\n",
    "list2 = [5, 6, 7, 8]<br>\n",
    "print(len(list1 + list2))<br><br>\n",
    "a) 2<br>\n",
    "b) 4<br>\n",
    "c) 5<br>\n",
    "d) 8"
   ]
  },
  {
   "cell_type": "markdown",
   "metadata": {},
   "source": [
    "13.What will be the output of the following Python code?<br><br>\n",
    "\n",
    "for i in range(5):\n",
    ">if i == 5:\n",
    ">>break\n",
    "\n",
    ">else:\n",
    ">>print(i)\n",
    "\n",
    "else:\n",
    ">print(\"Here\")\n",
    "    \n",
    "a) 0 1 2 3 4 Here<br>\n",
    "b) 0 1 2 3 4 5 Here<br>\n",
    "c) 0 1 2 3 4<br>\n",
    "d) 1 2 3 4 5"
   ]
  },
  {
   "cell_type": "markdown",
   "metadata": {},
   "source": [
    "14.What will be the output of the following Python code?<br><br>\n",
    "a=(2,3,1,5)<br>\n",
    "a.sort()<br>\n",
    "a<br><br>\n",
    "a) (1,2,3,5)<br>\n",
    "b) (2,3,1,5)<br>\n",
    "c) None<br>\n",
    "d) Error, tuple has no attribute sort"
   ]
  },
  {
   "cell_type": "markdown",
   "metadata": {},
   "source": [
    "15.What will be the output of the following Python code?<br><br>\n",
    "if (9 < 0) and (0 < -9):\n",
    ">print(\"hello\")\n",
    "\n",
    "elif (9 > 0) or False:\n",
    ">print(\"good\")\n",
    "\n",
    "else:\n",
    ">print(\"bad\")\n",
    "    \n",
    "a) error<br>\n",
    "b) hello<br>\n",
    "c) good<br>\n",
    "d) bad"
   ]
  },
  {
   "cell_type": "markdown",
   "metadata": {},
   "source": [
    "16.What data type is the object below?<br><br>\n",
    "L = [1, 23, 'hello', 1]<br><br>\n",
    "a) list<br>\n",
    "b) dictionary<br>\n",
    "c) array<br>\n",
    "d) tuple"
   ]
  },
  {
   "cell_type": "markdown",
   "metadata": {},
   "source": [
    "17.What does 5 // 4 evaluate to?<br>\n",
    "a) 625<br>\n",
    "b) 1.25<br>\n",
    "c) 1<br>\n",
    "d) 9<br>"
   ]
  },
  {
   "cell_type": "markdown",
   "metadata": {},
   "source": [
    "18.What will be the output of the following Python code?<br><br>\n",
    "\n",
    "d = {0: 'a', 1: 'b', 2: 'c'}<br>\n",
    "for i in d:\n",
    ">print(i)\n",
    "    \n",
    "a) 0 1 2<br>\n",
    "b) a b c<br>\n",
    "c) 0 a 1 b 2 c<br>\n",
    "d) none of the mentioned"
   ]
  },
  {
   "cell_type": "markdown",
   "metadata": {},
   "source": [
    "19.What will be the output of the following Python code?<br><br>\n",
    "print(\"Hello {0} and {1}\".format('foo', 'bin'))<br><br>\n",
    "a) Hello foo and bin<br>\n",
    "b) Hello {0} and {1} foo bin<br>\n",
    "c) Error<br>\n",
    "d) Hello 0 and 1"
   ]
  },
  {
   "cell_type": "markdown",
   "metadata": {},
   "source": [
    "20.What will be the output of the following Python code?<br><br>\n",
    "l=[[1, 2, 3], [4, 5, 6]]<br>\n",
    "for i in range(len(l)):\n",
    ">for j in range(len(l[ i ])):\n",
    ">>l[ i ][ j ]+=10\n",
    "\n",
    "l\n",
    "\n",
    "a) No output<br>\n",
    "b) Error<br>\n",
    "c) [[1, 2, 3], [4, 5, 6]]<br>\n",
    "d) [[11, 12, 13], [14, 15, 16]]"
   ]
  },
  {
   "cell_type": "markdown",
   "metadata": {},
   "source": [
    "21. Which of the following is not a valid variable name declaration?<br>\n",
    "a) int _a3;<br>\n",
    "b) int a_3;<br>\n",
    "c) int 3_a;<br>\n",
    "d) int _3a"
   ]
  },
  {
   "cell_type": "markdown",
   "metadata": {},
   "source": [
    "22.What will be the output of the following C code?<br>\n",
    "#include <stdio.h><br>\n",
    "int main()<br>\n",
    "{\n",
    ">int y = 10000;<br>\n",
    "int y = 34;<br>\n",
    "printf(\"Hello World! %d\\n\", y);<br>\n",
    "return 0;\n",
    "\n",
    "}<br><br>\n",
    "a) Compile time error<br>\n",
    "b) Hello World! 34<br>\n",
    "c) Hello World! 1000<br>\n",
    "d) Hello World! followed by a junk value"
   ]
  },
  {
   "cell_type": "markdown",
   "metadata": {},
   "source": [
    "23.What will be the output of the following C code?<br>\n",
    "\n",
    "#include <stdio.h><br>\n",
    "void main()\n",
    "{\n",
    ">int x = 0;\n",
    ">>if (x == 0)\n",
    ">>>printf(\"hi\");\n",
    "\n",
    ">>else\n",
    ">>>printf(\"how are u\");<br>\n",
    ">>>printf(\"hello\");\n",
    "\n",
    "}<br><br>\n",
    "\n",
    "a) hi<br>\n",
    "b) how are you<br>\n",
    "c) hello<br>\n",
    "d) hihello<br>"
   ]
  },
  {
   "cell_type": "markdown",
   "metadata": {},
   "source": [
    "24.What will be the final value of x in the following C code?<br>\n",
    "#include <stdio.h><br>\n",
    "void main()<br>\n",
    "{\n",
    ">int x = 5 * 9 / 3 + 9;\n",
    "\n",
    "}<br><br>\n",
    "a) 3.75<br>\n",
    "b) Depends on compiler<br>\n",
    "c) 24<br>\n",
    "d) 3"
   ]
  },
  {
   "cell_type": "markdown",
   "metadata": {},
   "source": [
    "25.What will be the output of the following C code? (Q & A) +20<br>\n",
    "#include <stdio.h><br>\n",
    "int main()<br>\n",
    "{\n",
    ">    int i=2;<br>\n",
    "    printf(\"%d,%d\",i++,i++);<br>\n",
    "    return 0;\n",
    "\n",
    "}"
   ]
  },
  {
   "cell_type": "markdown",
   "metadata": {},
   "source": []
  },
  {
   "cell_type": "markdown",
   "metadata": {},
   "source": []
  },
  {
   "cell_type": "markdown",
   "metadata": {},
   "source": []
  },
  {
   "cell_type": "markdown",
   "metadata": {},
   "source": []
  },
  {
   "cell_type": "markdown",
   "metadata": {},
   "source": []
  },
  {
   "cell_type": "markdown",
   "metadata": {},
   "source": []
  },
  {
   "cell_type": "markdown",
   "metadata": {},
   "source": []
  },
  {
   "cell_type": "code",
   "execution_count": null,
   "metadata": {},
   "outputs": [],
   "source": [
    "1.\n",
    "2.\n",
    "3.\n",
    "4.\n",
    "5.\n",
    "6.\n",
    "7.\n",
    "8.\n",
    "9.\n",
    "10.\n",
    "11.\n",
    "12\n",
    "13.\n",
    "14.\n",
    "15.\n",
    "16.\n",
    "17.\n",
    "18.\n",
    "19.\n",
    "20. \n",
    "21. \n",
    "22. \n",
    "23. \n",
    "24. \n",
    "25. "
   ]
  }
 ],
 "metadata": {
  "kernelspec": {
   "display_name": "Python 3",
   "language": "python",
   "name": "python3"
  },
  "language_info": {
   "codemirror_mode": {
    "name": "ipython",
    "version": 3
   },
   "file_extension": ".py",
   "mimetype": "text/x-python",
   "name": "python",
   "nbconvert_exporter": "python",
   "pygments_lexer": "ipython3",
   "version": "3.7.3"
  },
  "nbTranslate": {
   "displayLangs": [
    "*"
   ],
   "hotkey": "alt-t",
   "langInMainMenu": true,
   "sourceLang": "en",
   "targetLang": "fr",
   "useGoogleTranslate": true
  },
  "toc": {
   "base_numbering": 1,
   "nav_menu": {},
   "number_sections": true,
   "sideBar": true,
   "skip_h1_title": false,
   "title_cell": "Table of Contents",
   "title_sidebar": "Contents",
   "toc_cell": false,
   "toc_position": {},
   "toc_section_display": true,
   "toc_window_display": false
  },
  "varInspector": {
   "cols": {
    "lenName": 16,
    "lenType": 16,
    "lenVar": 40
   },
   "kernels_config": {
    "python": {
     "delete_cmd_postfix": "",
     "delete_cmd_prefix": "del ",
     "library": "var_list.py",
     "varRefreshCmd": "print(var_dic_list())"
    },
    "r": {
     "delete_cmd_postfix": ") ",
     "delete_cmd_prefix": "rm(",
     "library": "var_list.r",
     "varRefreshCmd": "cat(var_dic_list()) "
    }
   },
   "types_to_exclude": [
    "module",
    "function",
    "builtin_function_or_method",
    "instance",
    "_Feature"
   ],
   "window_display": false
  }
 },
 "nbformat": 4,
 "nbformat_minor": 2
}
